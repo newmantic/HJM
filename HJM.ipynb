{
  "nbformat": 4,
  "nbformat_minor": 0,
  "metadata": {
    "colab": {
      "provenance": [],
      "authorship_tag": "ABX9TyPzXsgfqIE0CneAi8egr8DY",
      "include_colab_link": true
    },
    "kernelspec": {
      "name": "python3",
      "display_name": "Python 3"
    },
    "language_info": {
      "name": "python"
    }
  },
  "cells": [
    {
      "cell_type": "markdown",
      "metadata": {
        "id": "view-in-github",
        "colab_type": "text"
      },
      "source": [
        "<a href=\"https://colab.research.google.com/github/newmantic/HJM/blob/main/HJM.ipynb\" target=\"_parent\"><img src=\"https://colab.research.google.com/assets/colab-badge.svg\" alt=\"Open In Colab\"/></a>"
      ]
    },
    {
      "cell_type": "code",
      "execution_count": 1,
      "metadata": {
        "id": "Lv4giYbblh9Y"
      },
      "outputs": [],
      "source": [
        "import numpy as np\n",
        "\n",
        "def generate_forward_curve(initial_curve, volatility, time_horizon, num_steps, num_simulations):\n",
        "    \"\"\"\n",
        "    Generate forward rate curves using the HJM model.\n",
        "\n",
        "    Args:\n",
        "        initial_curve (np.array): The initial forward rate curve.\n",
        "        volatility (float): Constant volatility for the forward rates.\n",
        "        time_horizon (float): The total time horizon for the simulation.\n",
        "        num_steps (int): The number of time steps in the simulation.\n",
        "        num_simulations (int): The number of simulated forward curves.\n",
        "\n",
        "    Returns:\n",
        "        np.ndarray: Simulated forward rate curves of shape (num_simulations, num_steps, len(initial_curve)).\n",
        "    \"\"\"\n",
        "    dt = time_horizon / num_steps\n",
        "    num_maturities = len(initial_curve)\n",
        "\n",
        "    # Initialize an array to hold all the simulated forward curves\n",
        "    forward_curves = np.zeros((num_simulations, num_steps, num_maturities))\n",
        "\n",
        "    # Set the initial forward curve for all simulations\n",
        "    forward_curves[:, 0, :] = initial_curve\n",
        "\n",
        "    # Simulate the evolution of the forward curves\n",
        "    for i in range(1, num_steps):\n",
        "        dW = np.random.normal(0, np.sqrt(dt), (num_simulations, num_maturities))\n",
        "        forward_curves[:, i, :] = forward_curves[:, i-1, :] + volatility * dW\n",
        "\n",
        "    return forward_curves"
      ]
    },
    {
      "cell_type": "code",
      "source": [
        "# Example parameters\n",
        "initial_forward_curve = np.array([0.02, 0.025, 0.03, 0.035, 0.04])  # Initial forward rates for different maturities\n",
        "volatility = 0.01  # Constant volatility\n",
        "time_horizon = 1.0  # Total time horizon in years\n",
        "num_steps = 10  # Number of time steps in the simulation\n",
        "num_simulations = 5  # Number of simulated forward curves\n",
        "\n",
        "# Generate the forward curves\n",
        "simulated_forward_curves = generate_forward_curve(initial_forward_curve, volatility, time_horizon, num_steps, num_simulations)\n",
        "\n",
        "# Analyze the results\n",
        "print(\"Simulated Forward Curves:\")\n",
        "print(simulated_forward_curves)"
      ],
      "metadata": {
        "colab": {
          "base_uri": "https://localhost:8080/"
        },
        "id": "pZh2rbZtl6ln",
        "outputId": "a6bb4ee8-7d55-46e1-e5cc-a74214941b55"
      },
      "execution_count": 2,
      "outputs": [
        {
          "output_type": "stream",
          "name": "stdout",
          "text": [
            "Simulated Forward Curves:\n",
            "[[[0.02       0.025      0.03       0.035      0.04      ]\n",
            "  [0.01998302 0.02796009 0.03312877 0.03595518 0.03943845]\n",
            "  [0.02132334 0.02887237 0.0341183  0.03415422 0.04174378]\n",
            "  [0.02067726 0.03577418 0.03446629 0.03503339 0.04214422]\n",
            "  [0.01562237 0.0326469  0.03485291 0.03476819 0.04266733]\n",
            "  [0.01735347 0.03385888 0.03736787 0.03220366 0.0426849 ]\n",
            "  [0.01642816 0.03164304 0.03733171 0.03038767 0.04293509]\n",
            "  [0.01271271 0.03314302 0.03395427 0.02830286 0.04302872]\n",
            "  [0.01188058 0.03517884 0.03204008 0.03274018 0.04334592]\n",
            "  [0.01347362 0.038625   0.03322884 0.03214065 0.04244723]]\n",
            "\n",
            " [[0.02       0.025      0.03       0.035      0.04      ]\n",
            "  [0.02644753 0.02194587 0.03057058 0.03033265 0.0387098 ]\n",
            "  [0.02568486 0.02083669 0.0304733  0.03299467 0.0391387 ]\n",
            "  [0.02230291 0.02611322 0.03237671 0.02664577 0.03892982]\n",
            "  [0.01833156 0.02245656 0.03438494 0.0217737  0.04023569]\n",
            "  [0.01691711 0.0179018  0.03389082 0.02177884 0.04239536]\n",
            "  [0.01510012 0.01712239 0.03358528 0.0176638  0.04059584]\n",
            "  [0.01747642 0.01196117 0.03753272 0.01713586 0.03877915]\n",
            "  [0.01777939 0.01212478 0.03716914 0.02104352 0.0338843 ]\n",
            "  [0.01576842 0.01439639 0.04123015 0.02095699 0.03244654]]\n",
            "\n",
            " [[0.02       0.025      0.03       0.035      0.04      ]\n",
            "  [0.02229912 0.02388844 0.03065128 0.03733129 0.03572222]\n",
            "  [0.02031149 0.02372846 0.030849   0.03748452 0.03739491]\n",
            "  [0.02067521 0.03080419 0.03092058 0.03419161 0.0431902 ]\n",
            "  [0.02042937 0.0343365  0.03024538 0.03653497 0.0412905 ]\n",
            "  [0.01679878 0.03602286 0.03012426 0.03699992 0.03659398]\n",
            "  [0.01879626 0.03595402 0.03184536 0.03954271 0.03550706]\n",
            "  [0.01848745 0.03714307 0.03586697 0.03844138 0.03310319]\n",
            "  [0.01910009 0.03843227 0.03946381 0.0345677  0.03831501]\n",
            "  [0.01217975 0.04032153 0.03975751 0.03545737 0.04248362]]\n",
            "\n",
            " [[0.02       0.025      0.03       0.035      0.04      ]\n",
            "  [0.02026709 0.02780616 0.03142654 0.03451713 0.03725748]\n",
            "  [0.02356039 0.02516025 0.03503587 0.03533875 0.03433752]\n",
            "  [0.01669254 0.02418565 0.02987418 0.03422259 0.03515532]\n",
            "  [0.01726675 0.02406665 0.02731187 0.03889835 0.03885403]\n",
            "  [0.01617883 0.02429593 0.02587086 0.04093882 0.03748342]\n",
            "  [0.01807808 0.02104959 0.02318339 0.03770464 0.0345865 ]\n",
            "  [0.02116578 0.01795782 0.0202283  0.03793655 0.03184884]\n",
            "  [0.02054082 0.01565713 0.01556871 0.03225142 0.03179201]\n",
            "  [0.01838191 0.0114449  0.00831602 0.0301317  0.02288135]]\n",
            "\n",
            " [[0.02       0.025      0.03       0.035      0.04      ]\n",
            "  [0.01702374 0.02646859 0.02954405 0.03325008 0.03180199]\n",
            "  [0.01196134 0.02655789 0.02928939 0.03422104 0.03239075]\n",
            "  [0.01295035 0.02874122 0.02859043 0.03105803 0.03038087]\n",
            "  [0.01548965 0.03196511 0.02634311 0.02996805 0.02851032]\n",
            "  [0.00962575 0.03102191 0.02444947 0.03436279 0.0288272 ]\n",
            "  [0.00869111 0.02957174 0.0227873  0.02790958 0.03224419]\n",
            "  [0.00774797 0.02905484 0.02273416 0.02797553 0.03489377]\n",
            "  [0.00637471 0.0292933  0.02129232 0.02935517 0.03211885]\n",
            "  [0.00068712 0.0299251  0.0232879  0.02515886 0.029603  ]]]\n"
          ]
        }
      ]
    }
  ]
}